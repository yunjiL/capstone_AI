{
 "cells": [
  {
   "cell_type": "code",
   "execution_count": null,
   "id": "79445590",
   "metadata": {},
   "outputs": [],
   "source": [
    "from keras.applications.vgg19 import VGG19\n",
    "from keras.models import Model\n",
    "from keras.layers import GlobalAveragePooling2D, Dense\n",
    "from keras.callbacks import ModelCheckpoint\n",
    "from keras.preprocessing.image import ImageDataGenerator\n",
    "from keras.optimizers import gradient_descent_v2\n",
    "import os\n",
    "\n",
    "os.environ[\"CUDA_VISIBLE_DEVICES\"] = \"1,2,3\"\n",
    "\n",
    "def eachFile(filepath):\n",
    "\tpathDir = os.listdir(filepath)\n",
    "\tout = []\n",
    "\tfor allDir in pathDir:\n",
    "\t\tchild = allDir\n",
    "\t\tout.append(child)\n",
    "\treturn out\n",
    "\n",
    "\n",
    "NUM_CLASSES = 11\n",
    "TRAIN_PATH = 'dataset/train/'\n",
    "TEST_PATH = 'dataset/test/'\n",
    "\n",
    "FC_NUMS = 4096\n",
    "\n",
    "FREEZE_LAYERS = 17\n",
    "\n",
    "IMAGE_SIZE = 224\n",
    "\n",
    "base_model = VGG19(input_shape=(IMAGE_SIZE, IMAGE_SIZE, 3), include_top=False, weights='imagenet')\n",
    "x = base_model.output\n",
    "x = GlobalAveragePooling2D()(x)\n",
    "x = Dense(4096, activation='relu')(x)\n",
    "prediction = Dense(NUM_CLASSES, activation='softmax')(x)\n",
    "\n",
    "model = Model(inputs=base_model.input, outputs=prediction)\n",
    "\n",
    "for layer in model.layers[:FREEZE_LAYERS]:\n",
    "    layer.trainable = False\n",
    "for layer in model.layers[FREEZE_LAYERS:]:\n",
    "    layer.trainable = True\n",
    "\n",
    "model.compile(optimizer=gradient_descent_v2.SGD(learning_rate=0.001, momentum=0.9), loss='categorical_crossentropy', metrics=['accuracy'])\n",
    "train_datagen = ImageDataGenerator()\n",
    "train_generator = train_datagen.flow_from_directory(directory=TRAIN_PATH,\n",
    "                                                    target_size=(IMAGE_SIZE, IMAGE_SIZE), classes=eachFile(TRAIN_PATH))\n",
    "filepath = 'model/sewer_weight.h5'\n",
    "checkpoint = ModelCheckpoint(filepath, monitor='loss', verbose=1, save_best_only=True, mode='min')\n",
    "\n",
    "history_ft = model.fit_generator(train_generator, epochs=10, callbacks=[checkpoint])\n",
    "model.save('model/sewer_weight_final.h5')"
   ]
  },
  {
   "cell_type": "code",
   "execution_count": 4,
   "id": "5e092fbc",
   "metadata": {},
   "outputs": [
    {
     "name": "stderr",
     "output_type": "stream",
     "text": [
      "2022-05-15 02:25:24.734010: I tensorflow/core/grappler/optimizers/custom_graph_optimizer_registry.cc:112] Plugin optimizer for device_type GPU is enabled.\n"
     ]
    }
   ],
   "source": [
    "\n",
    "   \n",
    "from tensorflow.python.keras.initializers import glorot_uniform\n",
    "from keras.models import load_model\n",
    "from keras.preprocessing import image\n",
    "import numpy as np\n",
    "import os\n",
    "import cv2\n",
    "from keras.utils.generic_utils import CustomObjectScope\n",
    "from keras.preprocessing.image import  img_to_array\n",
    "\n",
    "os.environ[\"CUDA_VISIBLE_DEVICES\"] = \"1,2,3\"\n",
    "\n",
    "# image folder\n",
    "folder_path = 'dataset/test/'\n",
    "\n",
    "# path to model\n",
    "model_path = 'model/sewer_weight.h5'\n",
    "with CustomObjectScope({'GlorotUniform': glorot_uniform()}):\n",
    "        model = load_model(model_path)\n",
    "\n",
    "# dimensions of images\n",
    "img_width, img_height = 224, 224\n",
    "\n",
    "i = 0\n",
    "images = []\n",
    "for img in os.listdir(folder_path):\n",
    "   img1 = image.load_img(os.path.join(folder_path, img), target_size=(img_width, img_height))\n",
    "   img2 = img_to_array(img1)\n",
    "   img2 = np.expand_dims(img2, axis=0)\n",
    "   classes = model.predict(img2)[0]\n",
    "   idxs = np.argsort(classes)[::-1][:1]\n",
    "\n",
    "   classname = ['BK', 'CC', 'CL', 'DS', 'ETC', 'JD', 'JF', 'LP',\n",
    "                'SD', 'UP_IN', 'UP_PJ']\n",
    "\n",
    "   out = cv2.imread(os.path.join(folder_path, img))\n",
    "\n",
    "   for (i, j) in enumerate(idxs):\n",
    "       label = \"{}:{:.2f}%\".format(classname[idxs[i]], classes[idxs[i]] * 100)\n",
    "       cv2.putText(out, label, (10, (i * 30) + 25), cv2.FONT_HERSHEY_SIMPLEX, 0.7, (255, 255, 255), 2)\n",
    "    \n",
    "   cv2.imwrite(\"visualization/sd/%s\"%img,out)"
   ]
  }
 ],
 "metadata": {
  "interpreter": {
   "hash": "7625ba19274300b60e416e1653561b01d82a278577aa3faa59ceacf488eb03f8"
  },
  "kernelspec": {
   "display_name": "Python 3.9 (tensorflow)",
   "language": "python",
   "name": "python3"
  },
  "language_info": {
   "codemirror_mode": {
    "name": "ipython",
    "version": 3
   },
   "file_extension": ".py",
   "mimetype": "text/x-python",
   "name": "python",
   "nbconvert_exporter": "python",
   "pygments_lexer": "ipython3",
   "version": "3.9.12"
  }
 },
 "nbformat": 4,
 "nbformat_minor": 5
}

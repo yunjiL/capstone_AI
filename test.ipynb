{
 "cells": [
  {
   "cell_type": "code",
   "execution_count": 1,
   "id": "79445590",
   "metadata": {},
   "outputs": [
    {
     "name": "stdout",
     "output_type": "stream",
     "text": [
      "Init Plugin\n",
      "Init Graph Optimizer\n",
      "Init Kernel\n",
      "Metal device set to: Apple M1 Pro\n",
      "\n",
      "systemMemory: 16.00 GB\n",
      "maxCacheSize: 5.33 GB\n",
      "\n"
     ]
    },
    {
     "name": "stderr",
     "output_type": "stream",
     "text": [
      "2022-05-06 20:56:07.158454: I tensorflow/core/common_runtime/pluggable_device/pluggable_device_factory.cc:305] Could not identify NUMA node of platform GPU ID 0, defaulting to 0. Your kernel may not have been built with NUMA support.\n",
      "2022-05-06 20:56:07.158565: I tensorflow/core/common_runtime/pluggable_device/pluggable_device_factory.cc:271] Created TensorFlow device (/job:localhost/replica:0/task:0/device:GPU:0 with 0 MB memory) -> physical PluggableDevice (device: 0, name: METAL, pci bus id: <undefined>)\n"
     ]
    },
    {
     "name": "stdout",
     "output_type": "stream",
     "text": [
      "Found 600 images belonging to 10 classes.\n"
     ]
    },
    {
     "name": "stderr",
     "output_type": "stream",
     "text": [
      "/Users/iyunji/miniforge3/envs/tensorflow/lib/python3.9/site-packages/keras/engine/training.py:1915: UserWarning: `Model.fit_generator` is deprecated and will be removed in a future version. Please use `Model.fit`, which supports generators.\n",
      "  warnings.warn('`Model.fit_generator` is deprecated and '\n",
      "2022-05-06 20:56:08.150558: I tensorflow/compiler/mlir/mlir_graph_optimization_pass.cc:176] None of the MLIR Optimization Passes are enabled (registered 2)\n",
      "2022-05-06 20:56:08.150780: W tensorflow/core/platform/profile_utils/cpu_utils.cc:128] Failed to get CPU frequency: 0 Hz\n"
     ]
    },
    {
     "name": "stdout",
     "output_type": "stream",
     "text": [
      "Epoch 1/10\n"
     ]
    },
    {
     "name": "stderr",
     "output_type": "stream",
     "text": [
      "2022-05-06 20:56:15.198461: I tensorflow/core/grappler/optimizers/custom_graph_optimizer_registry.cc:112] Plugin optimizer for device_type GPU is enabled.\n"
     ]
    },
    {
     "name": "stdout",
     "output_type": "stream",
     "text": [
      "19/19 [==============================] - 19s 498ms/step - loss: 2.1129 - accuracy: 0.4218\n",
      "\n",
      "Epoch 00001: loss improved from inf to 1.54548, saving model to model/sewer_weight.h5\n",
      "Epoch 2/10\n",
      "19/19 [==============================] - 9s 474ms/step - loss: 0.3092 - accuracy: 0.9048\n",
      "\n",
      "Epoch 00002: loss improved from 1.54548 to 0.30482, saving model to model/sewer_weight.h5\n",
      "Epoch 3/10\n",
      "19/19 [==============================] - 9s 475ms/step - loss: 0.1411 - accuracy: 0.9600\n",
      "\n",
      "Epoch 00003: loss improved from 0.30482 to 0.11571, saving model to model/sewer_weight.h5\n",
      "Epoch 4/10\n",
      "19/19 [==============================] - 9s 476ms/step - loss: 0.0750 - accuracy: 0.9781\n",
      "\n",
      "Epoch 00004: loss improved from 0.11571 to 0.09564, saving model to model/sewer_weight.h5\n",
      "Epoch 5/10\n",
      "19/19 [==============================] - 10s 482ms/step - loss: 0.0354 - accuracy: 0.9917\n",
      "\n",
      "Epoch 00005: loss improved from 0.09564 to 0.03257, saving model to model/sewer_weight.h5\n",
      "Epoch 6/10\n",
      "19/19 [==============================] - 9s 472ms/step - loss: 0.0079 - accuracy: 1.0000\n",
      "\n",
      "Epoch 00006: loss improved from 0.03257 to 0.00604, saving model to model/sewer_weight.h5\n",
      "Epoch 7/10\n",
      "19/19 [==============================] - 10s 501ms/step - loss: 7.0798e-04 - accuracy: 1.0000\n",
      "\n",
      "Epoch 00007: loss improved from 0.00604 to 0.00071, saving model to model/sewer_weight.h5\n",
      "Epoch 8/10\n",
      "19/19 [==============================] - 10s 486ms/step - loss: 3.5534e-04 - accuracy: 1.0000\n",
      "\n",
      "Epoch 00008: loss improved from 0.00071 to 0.00043, saving model to model/sewer_weight.h5\n",
      "Epoch 9/10\n",
      "19/19 [==============================] - 9s 478ms/step - loss: 2.8242e-04 - accuracy: 1.0000\n",
      "\n",
      "Epoch 00009: loss improved from 0.00043 to 0.00031, saving model to model/sewer_weight.h5\n",
      "Epoch 10/10\n",
      "19/19 [==============================] - 9s 466ms/step - loss: 1.9527e-04 - accuracy: 1.0000\n",
      "\n",
      "Epoch 00010: loss improved from 0.00031 to 0.00025, saving model to model/sewer_weight.h5\n"
     ]
    }
   ],
   "source": [
    "from keras.applications.vgg19 import VGG19\n",
    "from keras.models import Model\n",
    "from keras.layers import GlobalAveragePooling2D, Dense\n",
    "from keras.callbacks import ModelCheckpoint\n",
    "from keras.preprocessing.image import ImageDataGenerator\n",
    "from keras.optimizers import gradient_descent_v2\n",
    "import os\n",
    "\n",
    "os.environ[\"CUDA_VISIBLE_DEVICES\"] = \"1,2,3\"\n",
    "\n",
    "def eachFile(filepath):\n",
    "\tpathDir = os.listdir(filepath)\n",
    "\tout = []\n",
    "\tfor allDir in pathDir:\n",
    "\t\tchild = allDir\n",
    "\t\tout.append(child)\n",
    "\treturn out\n",
    "\n",
    "\n",
    "NUM_CLASSES = 10\n",
    "TRAIN_PATH = 'dataset/train/'\n",
    "TEST_PATH = 'dataset/test/'\n",
    "\n",
    "FC_NUMS = 4096\n",
    "\n",
    "FREEZE_LAYERS = 17\n",
    "\n",
    "IMAGE_SIZE = 224\n",
    "\n",
    "base_model = VGG19(input_shape=(IMAGE_SIZE, IMAGE_SIZE, 3), include_top=False, weights='imagenet')\n",
    "x = base_model.output\n",
    "x = GlobalAveragePooling2D()(x)\n",
    "x = Dense(4096, activation='relu')(x)\n",
    "prediction = Dense(NUM_CLASSES, activation='softmax')(x)\n",
    "\n",
    "model = Model(inputs=base_model.input, outputs=prediction)\n",
    "\n",
    "for layer in model.layers[:FREEZE_LAYERS]:\n",
    "    layer.trainable = False\n",
    "for layer in model.layers[FREEZE_LAYERS:]:\n",
    "    layer.trainable = True\n",
    "\n",
    "model.compile(optimizer=gradient_descent_v2.SGD(learning_rate=0.001, momentum=0.9), loss='categorical_crossentropy', metrics=['accuracy'])\n",
    "train_datagen = ImageDataGenerator()\n",
    "train_generator = train_datagen.flow_from_directory(directory=TRAIN_PATH,\n",
    "                                                    target_size=(IMAGE_SIZE, IMAGE_SIZE), classes=eachFile(TRAIN_PATH))\n",
    "filepath = 'model/sewer_weight.h5'\n",
    "checkpoint = ModelCheckpoint(filepath, monitor='loss', verbose=1, save_best_only=True, mode='min')\n",
    "\n",
    "history_ft = model.fit_generator(train_generator, epochs=10, callbacks=[checkpoint])\n",
    "model.save('model/sewer_weight_final.h5')"
   ]
  },
  {
   "cell_type": "code",
   "execution_count": 1,
   "id": "5e092fbc",
   "metadata": {},
   "outputs": [
    {
     "name": "stdout",
     "output_type": "stream",
     "text": [
      "Init Plugin\n",
      "Init Graph Optimizer\n",
      "Init Kernel\n"
     ]
    },
    {
     "ename": "AttributeError",
     "evalue": "module 'tensorflow.compat.v2.__internal__' has no attribute 'register_clear_session_function'",
     "output_type": "error",
     "traceback": [
      "\u001b[0;31m---------------------------------------------------------------------------\u001b[0m",
      "\u001b[0;31mAttributeError\u001b[0m                            Traceback (most recent call last)",
      "\u001b[1;32m/Users/iyunji/Documents/workspace_vscode/capstone/capstone_AI/test.ipynb Cell 2'\u001b[0m in \u001b[0;36m<cell line: 1>\u001b[0;34m()\u001b[0m\n\u001b[0;32m----> <a href='vscode-notebook-cell:/Users/iyunji/Documents/workspace_vscode/capstone/capstone_AI/test.ipynb#ch0000001?line=0'>1</a>\u001b[0m \u001b[39mfrom\u001b[39;00m \u001b[39mkeras\u001b[39;00m\u001b[39m.\u001b[39;00m\u001b[39minitializers\u001b[39;00m \u001b[39mimport\u001b[39;00m glorot_uniform\n\u001b[1;32m      <a href='vscode-notebook-cell:/Users/iyunji/Documents/workspace_vscode/capstone/capstone_AI/test.ipynb#ch0000001?line=1'>2</a>\u001b[0m \u001b[39mfrom\u001b[39;00m \u001b[39mkeras\u001b[39;00m\u001b[39m.\u001b[39;00m\u001b[39mmodels\u001b[39;00m \u001b[39mimport\u001b[39;00m load_model\n\u001b[1;32m      <a href='vscode-notebook-cell:/Users/iyunji/Documents/workspace_vscode/capstone/capstone_AI/test.ipynb#ch0000001?line=2'>3</a>\u001b[0m \u001b[39mfrom\u001b[39;00m \u001b[39mkeras\u001b[39;00m\u001b[39m.\u001b[39;00m\u001b[39mpreprocessing\u001b[39;00m \u001b[39mimport\u001b[39;00m image\n",
      "File \u001b[0;32m~/miniforge3/envs/tensorflow/lib/python3.9/site-packages/keras/__init__.py:25\u001b[0m, in \u001b[0;36m<module>\u001b[0;34m\u001b[0m\n\u001b[1;32m     <a href='file:///Users/iyunji/miniforge3/envs/tensorflow/lib/python3.9/site-packages/keras/__init__.py?line=21'>22</a>\u001b[0m \u001b[39mfrom\u001b[39;00m \u001b[39mkeras\u001b[39;00m \u001b[39mimport\u001b[39;00m distribute\n\u001b[1;32m     <a href='file:///Users/iyunji/miniforge3/envs/tensorflow/lib/python3.9/site-packages/keras/__init__.py?line=23'>24</a>\u001b[0m \u001b[39m# See b/110718070#comment18 for more details about this import.\u001b[39;00m\n\u001b[0;32m---> <a href='file:///Users/iyunji/miniforge3/envs/tensorflow/lib/python3.9/site-packages/keras/__init__.py?line=24'>25</a>\u001b[0m \u001b[39mfrom\u001b[39;00m \u001b[39mkeras\u001b[39;00m \u001b[39mimport\u001b[39;00m models\n\u001b[1;32m     <a href='file:///Users/iyunji/miniforge3/envs/tensorflow/lib/python3.9/site-packages/keras/__init__.py?line=26'>27</a>\u001b[0m \u001b[39mfrom\u001b[39;00m \u001b[39mkeras\u001b[39;00m\u001b[39m.\u001b[39;00m\u001b[39mengine\u001b[39;00m\u001b[39m.\u001b[39;00m\u001b[39minput_layer\u001b[39;00m \u001b[39mimport\u001b[39;00m Input\n\u001b[1;32m     <a href='file:///Users/iyunji/miniforge3/envs/tensorflow/lib/python3.9/site-packages/keras/__init__.py?line=27'>28</a>\u001b[0m \u001b[39mfrom\u001b[39;00m \u001b[39mkeras\u001b[39;00m\u001b[39m.\u001b[39;00m\u001b[39mengine\u001b[39;00m\u001b[39m.\u001b[39;00m\u001b[39msequential\u001b[39;00m \u001b[39mimport\u001b[39;00m Sequential\n",
      "File \u001b[0;32m~/miniforge3/envs/tensorflow/lib/python3.9/site-packages/keras/models.py:19\u001b[0m, in \u001b[0;36m<module>\u001b[0;34m\u001b[0m\n\u001b[1;32m     <a href='file:///Users/iyunji/miniforge3/envs/tensorflow/lib/python3.9/site-packages/keras/models.py?line=15'>16</a>\u001b[0m \u001b[39m\"\"\"Code for model cloning, plus model-related API entries.\"\"\"\u001b[39;00m\n\u001b[1;32m     <a href='file:///Users/iyunji/miniforge3/envs/tensorflow/lib/python3.9/site-packages/keras/models.py?line=17'>18</a>\u001b[0m \u001b[39mimport\u001b[39;00m \u001b[39mtensorflow\u001b[39;00m\u001b[39m.\u001b[39;00m\u001b[39mcompat\u001b[39;00m\u001b[39m.\u001b[39;00m\u001b[39mv2\u001b[39;00m \u001b[39mas\u001b[39;00m \u001b[39mtf\u001b[39;00m\n\u001b[0;32m---> <a href='file:///Users/iyunji/miniforge3/envs/tensorflow/lib/python3.9/site-packages/keras/models.py?line=18'>19</a>\u001b[0m \u001b[39mfrom\u001b[39;00m \u001b[39mkeras\u001b[39;00m \u001b[39mimport\u001b[39;00m backend\n\u001b[1;32m     <a href='file:///Users/iyunji/miniforge3/envs/tensorflow/lib/python3.9/site-packages/keras/models.py?line=19'>20</a>\u001b[0m \u001b[39mfrom\u001b[39;00m \u001b[39mkeras\u001b[39;00m \u001b[39mimport\u001b[39;00m metrics \u001b[39mas\u001b[39;00m metrics_module\n\u001b[1;32m     <a href='file:///Users/iyunji/miniforge3/envs/tensorflow/lib/python3.9/site-packages/keras/models.py?line=20'>21</a>\u001b[0m \u001b[39mfrom\u001b[39;00m \u001b[39mkeras\u001b[39;00m \u001b[39mimport\u001b[39;00m optimizer_v1\n",
      "File \u001b[0;32m~/miniforge3/envs/tensorflow/lib/python3.9/site-packages/keras/backend.py:285\u001b[0m, in \u001b[0;36m<module>\u001b[0;34m\u001b[0m\n\u001b[1;32m    <a href='file:///Users/iyunji/miniforge3/envs/tensorflow/lib/python3.9/site-packages/keras/backend.py?line=280'>281</a>\u001b[0m     context\u001b[39m.\u001b[39mcontext()\u001b[39m.\u001b[39mclear_kernel_cache()\n\u001b[1;32m    <a href='file:///Users/iyunji/miniforge3/envs/tensorflow/lib/python3.9/site-packages/keras/backend.py?line=282'>283</a>\u001b[0m \u001b[39m# Inject the clear_session function to keras_deps to remove the dependency\u001b[39;00m\n\u001b[1;32m    <a href='file:///Users/iyunji/miniforge3/envs/tensorflow/lib/python3.9/site-packages/keras/backend.py?line=283'>284</a>\u001b[0m \u001b[39m# from TFLite to Keras.\u001b[39;00m\n\u001b[0;32m--> <a href='file:///Users/iyunji/miniforge3/envs/tensorflow/lib/python3.9/site-packages/keras/backend.py?line=284'>285</a>\u001b[0m tf\u001b[39m.\u001b[39;49m__internal__\u001b[39m.\u001b[39;49mregister_clear_session_function(clear_session)\n\u001b[1;32m    <a href='file:///Users/iyunji/miniforge3/envs/tensorflow/lib/python3.9/site-packages/keras/backend.py?line=287'>288</a>\u001b[0m \u001b[39m@keras_export\u001b[39m(\u001b[39m'\u001b[39m\u001b[39mkeras.backend.manual_variable_initialization\u001b[39m\u001b[39m'\u001b[39m)\n\u001b[1;32m    <a href='file:///Users/iyunji/miniforge3/envs/tensorflow/lib/python3.9/site-packages/keras/backend.py?line=288'>289</a>\u001b[0m \u001b[39m@doc_controls\u001b[39m\u001b[39m.\u001b[39mdo_not_generate_docs\n\u001b[1;32m    <a href='file:///Users/iyunji/miniforge3/envs/tensorflow/lib/python3.9/site-packages/keras/backend.py?line=289'>290</a>\u001b[0m \u001b[39mdef\u001b[39;00m \u001b[39mmanual_variable_initialization\u001b[39m(value):\n\u001b[1;32m    <a href='file:///Users/iyunji/miniforge3/envs/tensorflow/lib/python3.9/site-packages/keras/backend.py?line=290'>291</a>\u001b[0m   \u001b[39m\"\"\"Sets the manual variable initialization flag.\u001b[39;00m\n\u001b[1;32m    <a href='file:///Users/iyunji/miniforge3/envs/tensorflow/lib/python3.9/site-packages/keras/backend.py?line=291'>292</a>\u001b[0m \n\u001b[1;32m    <a href='file:///Users/iyunji/miniforge3/envs/tensorflow/lib/python3.9/site-packages/keras/backend.py?line=292'>293</a>\u001b[0m \u001b[39m  This boolean flag determines whether\u001b[39;00m\n\u001b[0;32m   (...)\u001b[0m\n\u001b[1;32m    <a href='file:///Users/iyunji/miniforge3/envs/tensorflow/lib/python3.9/site-packages/keras/backend.py?line=299'>300</a>\u001b[0m \u001b[39m      value: Python boolean.\u001b[39;00m\n\u001b[1;32m    <a href='file:///Users/iyunji/miniforge3/envs/tensorflow/lib/python3.9/site-packages/keras/backend.py?line=300'>301</a>\u001b[0m \u001b[39m  \"\"\"\u001b[39;00m\n",
      "\u001b[0;31mAttributeError\u001b[0m: module 'tensorflow.compat.v2.__internal__' has no attribute 'register_clear_session_function'"
     ]
    }
   ],
   "source": [
    "\n",
    "   \n",
    "from tensorflow.python.keras.initializers import glorot_uniform\n",
    "from keras.models import load_model\n",
    "from keras.preprocessing import image\n",
    "import numpy as np\n",
    "import os\n",
    "import cv2\n",
    "from keras.utils import CustomObjectScope\n",
    "from keras.preprocessing.image import  img_to_array\n",
    "\n",
    "os.environ[\"CUDA_VISIBLE_DEVICES\"] = \"1,2,3\"\n",
    "\n",
    "# image folder\n",
    "folder_path = 'dataset/test/'\n",
    "\n",
    "# path to model\n",
    "model_path = 'model/sewer_weight_9.h5'\n",
    "with CustomObjectScope({'GlorotUniform': glorot_uniform()}):\n",
    "        model = load_model(model_path)\n",
    "\n",
    "# dimensions of images\n",
    "img_width, img_height = 224, 224\n",
    "\n",
    "\n",
    "i = 0\n",
    "images = []\n",
    "for img in os.listdir(folder_path):\n",
    "   img1 = image.load_img(os.path.join(folder_path, img), target_size=(img_width, img_height))\n",
    "   img2 = img_to_array(img1)\n",
    "   img2 = np.expand_dims(img2, axis=0)\n",
    "   classes = model.predict(img2)[0]\n",
    "   idxs = np.argsort(classes)[::-1][:1]\n",
    "\n",
    "   classname = ['IN', 'JOINT,FAULTY', 'PIPE,BROKEN', 'OUT', 'DEBRIS,SILTY', 'JOINT,OPEN',\n",
    "                'HORIZONTAL,CRACK', 'VERTICAL,CRACK', 'LATERAL,PROTRUDING']\n",
    "\n",
    "   out = cv2.imread(os.path.join(folder_path, img))\n",
    "\n",
    "   for (i, j) in enumerate(idxs):\n",
    "       label = \"{}:{:.2f}%\".format(classname[idxs[i]], classes[idxs[i]] * 100)\n",
    "       cv2.putText(out, label, (10, (i * 30) + 25), cv2.FONT_HERSHEY_SIMPLEX, 0.7, (255, 0, 0), 2)\n",
    "\n",
    "   cv2.imwrite(\"visualization/sd/%s\"%img,out)"
   ]
  }
 ],
 "metadata": {
  "kernelspec": {
   "display_name": "Python 3.9 (tensorflow)",
   "language": "python",
   "name": "tensorflow"
  },
  "language_info": {
   "codemirror_mode": {
    "name": "ipython",
    "version": 3
   },
   "file_extension": ".py",
   "mimetype": "text/x-python",
   "name": "python",
   "nbconvert_exporter": "python",
   "pygments_lexer": "ipython3",
   "version": "3.9.12"
  }
 },
 "nbformat": 4,
 "nbformat_minor": 5
}
